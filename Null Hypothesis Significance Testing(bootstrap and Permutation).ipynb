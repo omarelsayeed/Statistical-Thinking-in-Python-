{
 "cells": [
  {
   "cell_type": "code",
   "execution_count": 1,
   "metadata": {},
   "outputs": [],
   "source": [
    "from dc_stat_think.original import *"
   ]
  },
  {
   "cell_type": "code",
   "execution_count": 11,
   "metadata": {},
   "outputs": [],
   "source": [
    "import numpy as np\n",
    "import matplotlib.pyplot as plt\n",
    "\n",
    "\n",
    "force_a=np.array([1.612, 0.605, 0.327, 0.946, 0.541, 1.539, 0.529, 0.628, 1.453,\n",
    "       0.297, 0.703, 0.269, 0.751, 0.245, 1.182, 0.515, 0.435, 0.383,\n",
    "       0.457, 0.73 ]) \n",
    "\n",
    "\n",
    "force_b=np.array([0.172, 0.142, 0.037, 0.453, 0.355, 0.022, 0.502, 0.273, 0.72 ,\n",
    "       0.582, 0.198, 0.198, 0.597, 0.516, 0.815, 0.402, 0.605, 0.711,\n",
    "       0.614, 0.468])\n",
    "\n",
    "class PlotsForHypothesis(object):\n",
    "    def plot_hist(self,values, low=None, high=None):\n",
    "        options = dict(alpha=0.5, color='C0')\n",
    "        xs, ys, patches = plt.hist(values,\n",
    "                               density=True,\n",
    "                               histtype='step', \n",
    "                               linewidth=3,\n",
    "                               **options)\n",
    "        plt.ylabel('Density')\n",
    "        plt.tight_layout()\n",
    "    \n",
    "        return patches[0]\n",
    "    def fill_hist(self,low, high, patch):\n",
    "        options = dict(alpha=0.5, color='red')\n",
    "        fill = plt.axvspan(low, high, \n",
    "                       clip_path=patch,\n",
    "                       **options)\n",
    "    def annotate(self,text, x, y, length):\n",
    "        arrowprops = dict(width=1, headwidth=6, facecolor='black')\n",
    "        plt.annotate(text,\n",
    "                     xy=(x, y),\n",
    "                 xytext=(x, y+length),\n",
    "                 ha='center',\n",
    "                 arrowprops=arrowprops)    "
   ]
  },
  {
   "cell_type": "code",
   "execution_count": 100,
   "metadata": {},
   "outputs": [],
   "source": [
    "class HypothesisTest(PlotsForHypothesis):\n",
    "    '''\n",
    "    NULL SIGNIFICANCE HYPOTHESIS TEST \n",
    "    \n",
    "    H0 : means are the same\n",
    "    \n",
    "    Ha : they are not \n",
    "    \n",
    "    test_statistic : difference of means under the null hypothesis should be 0 using permutation test\n",
    "    \n",
    "    p-value : how many times did i get value that's as extreme as the actual value or more.\n",
    "    '''\n",
    "    def __init__(self, data1 , data2):\n",
    "        self.data1 = data1\n",
    "        self.data2 = data2\n",
    "        self.actual_statistic = self.calc_test_statistic(self.data1 , self.data2)\n",
    "        self.test_stats = self.run_simulation('bootstrap')\n",
    "        self.size=10000\n",
    "        self.std_error = np.std(self.test_stats) / self.size\n",
    "        self.confidence_intervals=np.percentile(self.test_stats , [2.5 , 97.5])\n",
    "        self.test_statistic_name = 'Different Of Means'\n",
    "        self.p=self.p_value()\n",
    "        \n",
    "    def p_value(self):\n",
    "        p_value = np.sum(self.test_stats >= self.actual_statistic) / len(self.test_stats)\n",
    "        return p_value\n",
    "        \n",
    "    def calc_test_statistic(self,d1 , d2):\n",
    "        diff = np.abs(np.mean(d1) - np.mean(d2))\n",
    "        return diff\n",
    "    \n",
    "    def run_simulation(self , kind='perm'):\n",
    "        if(kind == 'perm'):\n",
    "            print(\"NHST using Permutation Test !\")\n",
    "            # Draw 10,000 permutation replicates: perm_replicates\n",
    "            perm_replicates = draw_perm_reps(self.data1 , self.data2 , self.calc_test_statistic , size=10000)\n",
    "            return perm_replicates\n",
    "        elif(kind == 'bootstrap'):\n",
    "            '''we first shift the arrays to global mean , then do bootstrap on each ALONE'''\n",
    "            print(\"NHST using Bootstrap !\")\n",
    "            # Concatenate arrays: bout_lengths_concat\n",
    "            all_data = np.concatenate((self.data1, self.data2))\n",
    "            \n",
    "            # Compute mean of all bout_lengths: mean_bout_length\n",
    "            global_mean = np.mean(all_data)\n",
    "            \n",
    "            # Generate shifted arrays\n",
    "            shifted_data1 = self.data1 - np.mean(self.data1) + global_mean\n",
    "            shifted_data2 = self.data2 - np.mean(self.data2) + mean_bout_length\n",
    "\n",
    "            # Compute 10,000 bootstrap replicates from shifted arrays\n",
    "            bs_reps_data1 = draw_bs_reps(shifted_data1 , np.mean, size=10000)\n",
    "            bs_reps_data2 = draw_bs_reps(shifted_data2 , np.mean, size=10000)\n",
    "            \n",
    "            # return the absolute difference \n",
    "            return np.abs(bs_reps_het - bs_reps_wt)\n",
    "\n",
    "    def evaluate(self):\n",
    "        patch = self.plot_hist(self.test_stats)\n",
    "        low = self.actual_statistic\n",
    "        high = np.max(self.test_stats)\n",
    "        self.fill_hist(low, high, patch)\n",
    "        plt.title('Distribution of test stat under null')\n",
    "        plt.axvline(x=self.actual_statistic,color='red', label='Actual Statsitc value')\n",
    "        plt.legend(bbox_to_anchor=(1, 1), loc='upper left')\n",
    "        print(\"The Actual Value for \"+self.test_statistic_name + \" = \" + str(self.actual_statistic))\n",
    "        print(\"95% confidence Interval : \" , self.get_confidence_intervals())\n",
    "        print(\"P-Value = \" , self.p_value())\n",
    "        print(\"Sampling size =\" , self.size)\n",
    "        print(\"Standard Error =\" ,self.std_error)\n",
    "        self.annotate('P-Value' , 1.1*self.actual_statistic , 0.3 , 1)\n",
    "\n",
    "    def get_confidence_intervals(self):\n",
    "        '''the analytic way'''\n",
    "        diff_of_meanss=np.mean(self.data1) - np.mean(self.data2)\n",
    "        df=len(self.data1) + len(self.data2) -2\n",
    "        t_value=stats.t.ppf(0.95, df)\n",
    "        var1_squared=np.var(self.data1) **2\n",
    "        var2_squared=np.var(self.data2) ** 2\n",
    "        Sp=np.sqrt((len(self.data1)* var1_squared + len(self.data2) *var2_squared) / (len(self.data1) + len(self.data2) -2))\n",
    "        ci=t_value * Sp * factor\n",
    "        return (diff_of_meanss - ci ,  diff_of_meanss+ci)"
   ]
  },
  {
   "cell_type": "code",
   "execution_count": 102,
   "metadata": {
    "scrolled": true
   },
   "outputs": [
    {
     "name": "stdout",
     "output_type": "stream",
     "text": [
      "NHST using Bootstrap !\n",
      "The Actual Value for Different Of Means = 0.28825000000000006\n",
      "95% confidence Interval :  (0.21898163325595815, 0.35751836674404197)\n",
      "P-Value =  0.0067\n",
      "Sampling size = 10000\n",
      "Standard Error = 6.380397518162152e-06\n"
     ]
    },
    {
     "data": {
      "image/png": "[encoded data removed]",
      "text/plain": [
       "<Figure size 432x288 with 1 Axes>"
      ]
     },
     "metadata": {
      "needs_background": "light"
     },
     "output_type": "display_data"
    }
   ],
   "source": [
    "tester=HypothesisTest(force_a , force_b)\n",
    "tester.evaluate()"
   ]
  },
  {
   "cell_type": "code",
   "execution_count": null,
   "metadata": {},
   "outputs": [],
   "source": []
  }
 ],
 "metadata": {
  "kernelspec": {
   "display_name": "Python 3",
   "language": "python",
   "name": "python3"
  },
  "language_info": {
   "codemirror_mode": {
    "name": "ipython",
    "version": 3
   },
   "file_extension": ".py",
   "mimetype": "text/x-python",
   "name": "python",
   "nbconvert_exporter": "python",
   "pygments_lexer": "ipython3",
   "version": "3.8.5"
  }
 },
 "nbformat": 4,
 "nbformat_minor": 4
}
